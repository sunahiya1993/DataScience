{
  "nbformat": 4,
  "nbformat_minor": 0,
  "metadata": {
    "colab": {
      "name": "Python Variables & Data Types - LECTURE.ipynb",
      "provenance": [],
      "collapsed_sections": [],
      "include_colab_link": true
    },
    "kernelspec": {
      "name": "python3",
      "display_name": "Python 3"
    }
  },
  "cells": [
    {
      "cell_type": "markdown",
      "metadata": {
        "id": "view-in-github",
        "colab_type": "text"
      },
      "source": [
        "<a href=\"https://colab.research.google.com/github/sunahiya1993/DataScience/blob/master/Python_Variables_%26_Data_Types_LECTURE.ipynb\" target=\"_parent\"><img src=\"https://colab.research.google.com/assets/colab-badge.svg\" alt=\"Open In Colab\"/></a>"
      ]
    },
    {
      "cell_type": "markdown",
      "metadata": {
        "id": "ZvNsvUNNlZbi",
        "colab_type": "text"
      },
      "source": [
        "---\n",
        "# Lambda School Data Science - Intro to Python  \n",
        "---\n",
        "# 02 - Python Variables & Data Types\n",
        "---\n",
        "\n"
      ]
    },
    {
      "cell_type": "markdown",
      "metadata": {
        "id": "o57NvhYkBjKH",
        "colab_type": "text"
      },
      "source": [
        "## Variables: The building blocks of Python\n",
        "\n",
        "### What is a variable?\n",
        "We saw in the previous module that Python is one heck of a calculator. But you can imagine how more complex calculations would require us to remember a lot of values. That's where ***variables*** come in!  \n",
        "\n",
        "A variable is a storage unit for different values like numbers or text. Variables must be specific and case sensitive because you call up the value of a variable by using its name. \n",
        "\n"
      ]
    },
    {
      "cell_type": "code",
      "metadata": {
        "id": "gTg4J-jCExcZ",
        "colab_type": "code",
        "outputId": "a7e7c34a-7722-412e-c243-ca6db01de83e",
        "colab": {
          "base_uri": "https://localhost:8080/",
          "height": 35
        }
      },
      "source": [
        "# Remember this cell from the previous module? Meet ints. \n",
        "\n",
        "x = 23\n",
        "y = 17\n",
        "\n",
        "x + y"
      ],
      "execution_count": 0,
      "outputs": [
        {
          "output_type": "execute_result",
          "data": {
            "text/plain": [
              "40"
            ]
          },
          "metadata": {
            "tags": []
          },
          "execution_count": 2
        }
      ]
    },
    {
      "cell_type": "code",
      "metadata": {
        "id": "OF21ttOZ2Xv1",
        "colab_type": "code",
        "outputId": "6ab74325-647f-4df4-85de-a0c73bd57f3c",
        "colab": {
          "base_uri": "https://localhost:8080/",
          "height": 35
        }
      },
      "source": [
        "type(x)"
      ],
      "execution_count": 0,
      "outputs": [
        {
          "output_type": "execute_result",
          "data": {
            "text/plain": [
              "int"
            ]
          },
          "metadata": {
            "tags": []
          },
          "execution_count": 5
        }
      ]
    },
    {
      "cell_type": "markdown",
      "metadata": {
        "id": "kRT5Xl0wTWvR",
        "colab_type": "text"
      },
      "source": [
        "In the above cell we created (or *declared*) two variables: *x* and *y*. We did this by simply using an **=** sign much like we would in algebra.  \n",
        "In this example we only used numerical values (these are called ***integers*** or ***ints***). So what happens when you use text values?\n"
      ]
    },
    {
      "cell_type": "code",
      "metadata": {
        "id": "MfndtviVcgaO",
        "colab_type": "code",
        "outputId": "44f111f9-bf04-4e8a-a23b-fd2e48584959",
        "colab": {
          "base_uri": "https://localhost:8080/",
          "height": 35
        }
      },
      "source": [
        "# These are called strings:\n",
        "\n",
        "z = 'Dennis is '\n",
        "w = \"running late, again!\"\n",
        "\n",
        "z + w"
      ],
      "execution_count": 0,
      "outputs": [
        {
          "output_type": "execute_result",
          "data": {
            "text/plain": [
              "'Dennis is running late, again!'"
            ]
          },
          "metadata": {
            "tags": []
          },
          "execution_count": 7
        }
      ]
    },
    {
      "cell_type": "code",
      "metadata": {
        "id": "HYIbaIAI34Bb",
        "colab_type": "code",
        "outputId": "8b63edce-6bcd-479f-a7bf-6e6451c7a023",
        "colab": {
          "base_uri": "https://localhost:8080/",
          "height": 52
        }
      },
      "source": [
        "print(type(z))\n",
        "print(type(w))"
      ],
      "execution_count": 0,
      "outputs": [
        {
          "output_type": "stream",
          "text": [
            "<class 'str'>\n",
            "<class 'str'>\n"
          ],
          "name": "stdout"
        }
      ]
    },
    {
      "cell_type": "markdown",
      "metadata": {
        "id": "ejTRW_41ccek",
        "colab_type": "text"
      },
      "source": [
        "Something different happened!\n",
        "\n",
        "When **ints** are added together, Python returns their sum as another int. Text values are referred to as ***strings***. These can be denoted using 'single' or \"double\" quotation marks as you can see above.  \n",
        "\n",
        "When strings are added together, that's called *concatenation*. They're basically just pushed up against together. But remember, spaces are also counted. If you notice, there's no space at the end of the first string. Try adding a space after \"is\" and see what happens.  \n",
        "\n",
        "This is a key principle of Python. *Different* types have *different* behavior.   \n",
        "\n",
        "\n"
      ]
    },
    {
      "cell_type": "markdown",
      "metadata": {
        "id": "RS0x6FysdX3p",
        "colab_type": "text"
      },
      "source": [
        "Let's try something a bit more realistic. \n",
        "\n",
        "Let's say we're working with personal financial data and we're trying to figure out a budget."
      ]
    },
    {
      "cell_type": "code",
      "metadata": {
        "id": "PweN-CTws2EV",
        "colab_type": "code",
        "colab": {}
      },
      "source": [
        "# Let's put some numbers together:\n",
        "\n",
        "# Income:\n",
        "monthly_income = 5000\n",
        "\n",
        "# Taxes:\n",
        "tax_rate = 0.184\n",
        "\n",
        "# Expenses\n",
        "rent = 1200\n",
        "food = 320\n",
        "wifi = 100\n",
        "transport = 300\n",
        "misc = 400"
      ],
      "execution_count": 0,
      "outputs": []
    },
    {
      "cell_type": "code",
      "metadata": {
        "id": "8cLKflFz46wd",
        "colab_type": "code",
        "outputId": "81560bf2-58a6-42a7-ac1c-a1ef0d40f30b",
        "colab": {
          "base_uri": "https://localhost:8080/",
          "height": 35
        }
      },
      "source": [
        "type(tax_rate)"
      ],
      "execution_count": 0,
      "outputs": [
        {
          "output_type": "execute_result",
          "data": {
            "text/plain": [
              "float"
            ]
          },
          "metadata": {
            "tags": []
          },
          "execution_count": 14
        }
      ]
    },
    {
      "cell_type": "markdown",
      "metadata": {
        "id": "YVJNY8_NY240",
        "colab_type": "text"
      },
      "source": [
        "Notice how that cell didn't have an output? Even though we ran the cell, it had no commands other than assigning values to different variables. If we tried to add something (like in the original example), then there would be an output."
      ]
    },
    {
      "cell_type": "markdown",
      "metadata": {
        "id": "NruI-jojYCLK",
        "colab_type": "text"
      },
      "source": [
        "Ok. We've created seven variables and assigned each a different numeric value to represent our income, taxes, and expenses for a given month. Let's see how much we have left over after we pay Uncle Sam and cover our expenses. "
      ]
    },
    {
      "cell_type": "code",
      "metadata": {
        "id": "cnJ-ZG34YBSl",
        "colab_type": "code",
        "outputId": "cb30efbf-f1a2-453a-92d7-b281add81ed9",
        "colab": {
          "base_uri": "https://localhost:8080/",
          "height": 35
        }
      },
      "source": [
        "# Income, after taxes:\n",
        "AT_income = monthly_income * (1-tax_rate)\n",
        "print(AT_income)"
      ],
      "execution_count": 0,
      "outputs": [
        {
          "output_type": "stream",
          "text": [
            "4080.0000000000005\n"
          ],
          "name": "stdout"
        }
      ]
    },
    {
      "cell_type": "code",
      "metadata": {
        "id": "PGWhJpBYYv4X",
        "colab_type": "code",
        "outputId": "008ce554-18b7-4fca-e5a7-e46a387d972a",
        "colab": {
          "base_uri": "https://localhost:8080/",
          "height": 35
        }
      },
      "source": [
        "# Total expenses\n",
        "expenses = rent + food + wifi + transport + misc\n",
        "print(expenses)"
      ],
      "execution_count": 0,
      "outputs": [
        {
          "output_type": "stream",
          "text": [
            "2320\n"
          ],
          "name": "stdout"
        }
      ]
    },
    {
      "cell_type": "code",
      "metadata": {
        "id": "nIyXoC5IZOO5",
        "colab_type": "code",
        "outputId": "290ac7bb-b732-4a2e-8cff-bfb86492d654",
        "colab": {
          "base_uri": "https://localhost:8080/",
          "height": 35
        }
      },
      "source": [
        "# What's left?\n",
        "\n",
        "AT_income - expenses"
      ],
      "execution_count": 0,
      "outputs": [
        {
          "output_type": "execute_result",
          "data": {
            "text/plain": [
              "1760.0000000000005"
            ]
          },
          "metadata": {
            "tags": []
          },
          "execution_count": 22
        }
      ]
    },
    {
      "cell_type": "markdown",
      "metadata": {
        "id": "HYVyx-3-aDYH",
        "colab_type": "text"
      },
      "source": [
        "Not bad. Assuming we saved all of that every month, how long would it take us to have six months of expenses covered in case of an emergency?"
      ]
    },
    {
      "cell_type": "code",
      "metadata": {
        "id": "CrEfWg4iZW5x",
        "colab_type": "code",
        "outputId": "68cd5ba4-c08c-40e7-8db2-76e618d4193a",
        "colab": {
          "base_uri": "https://localhost:8080/",
          "height": 35
        }
      },
      "source": [
        "# Let's declare a new variable to store that value:\n",
        "max_savings = AT_income - expenses\n",
        "\n",
        "# Now let's calculate how long it would take:\n",
        "(expenses * 6) / max_savings"
      ],
      "execution_count": 0,
      "outputs": [
        {
          "output_type": "execute_result",
          "data": {
            "text/plain": [
              "7.909090909090907"
            ]
          },
          "metadata": {
            "tags": []
          },
          "execution_count": 23
        }
      ]
    },
    {
      "cell_type": "markdown",
      "metadata": {
        "id": "v5drj3Gka1aj",
        "colab_type": "text"
      },
      "source": [
        "Huh...nearly eight months! Guess we better start saving then. "
      ]
    },
    {
      "cell_type": "markdown",
      "metadata": {
        "id": "kugVj2BybgNx",
        "colab_type": "text"
      },
      "source": [
        "### Operators\n",
        "We just used Python ***operators*** to make those calculations.  \n",
        "\n",
        "*   ***+*** to add\n",
        "*   ***-*** to subtract\n",
        "*   ***/*** to divide\n",
        "\n",
        "\n",
        "There are dozens of operators in Python. These are the more common arithmetic operators. But don't let that scare you. It's all just practice."
      ]
    },
    {
      "cell_type": "markdown",
      "metadata": {
        "id": "7Ztd7VIXeGnD",
        "colab_type": "text"
      },
      "source": [
        "Now what do you think would happen if you tried to add a string to a number?"
      ]
    },
    {
      "cell_type": "code",
      "metadata": {
        "id": "I2MG0L5NeHSC",
        "colab_type": "code",
        "outputId": "2902d640-630b-4a68-f6d8-11656b076799",
        "colab": {
          "base_uri": "https://localhost:8080/",
          "height": 200
        }
      },
      "source": [
        "# Let's try it:\n",
        "# z holds the string \"Dennis is\" and x holds the integer \"23\".\n",
        "# So by combining them with the + operator, we should get...\n",
        "# 'Dennis is23', right?\n",
        "\n",
        "x = 23\n",
        "z = 'Dennis is '\n",
        "\n",
        "z + x"
      ],
      "execution_count": 0,
      "outputs": [
        {
          "output_type": "error",
          "ename": "TypeError",
          "evalue": "ignored",
          "traceback": [
            "\u001b[0;31m---------------------------------------------------------------------------\u001b[0m",
            "\u001b[0;31mTypeError\u001b[0m                                 Traceback (most recent call last)",
            "\u001b[0;32m<ipython-input-26-0788fab6572b>\u001b[0m in \u001b[0;36m<module>\u001b[0;34m()\u001b[0m\n\u001b[1;32m      3\u001b[0m \u001b[0mz\u001b[0m \u001b[0;34m=\u001b[0m \u001b[0;34m'Dennis is '\u001b[0m\u001b[0;34m\u001b[0m\u001b[0;34m\u001b[0m\u001b[0m\n\u001b[1;32m      4\u001b[0m \u001b[0;34m\u001b[0m\u001b[0m\n\u001b[0;32m----> 5\u001b[0;31m \u001b[0mz\u001b[0m \u001b[0;34m+\u001b[0m \u001b[0mx\u001b[0m\u001b[0;34m\u001b[0m\u001b[0;34m\u001b[0m\u001b[0m\n\u001b[0m",
            "\u001b[0;31mTypeError\u001b[0m: must be str, not int"
          ]
        }
      ]
    },
    {
      "cell_type": "markdown",
      "metadata": {
        "id": "G70K_DVoGv41",
        "colab_type": "text"
      },
      "source": [
        "Wrong. We get a **Type**Error. The error complains that it was expecting a *string*, not an *int*.   \n",
        "We'll need to convert *x* into a string. Here's the easiest way to do it:\n"
      ]
    },
    {
      "cell_type": "code",
      "metadata": {
        "id": "VecDocuUGusu",
        "colab_type": "code",
        "outputId": "a1e04463-0f25-47b4-efcc-7bd2b1355362",
        "colab": {
          "base_uri": "https://localhost:8080/",
          "height": 35
        }
      },
      "source": [
        "# We use Python's built-in str() method!\n",
        "\n",
        "z + str(x)"
      ],
      "execution_count": 0,
      "outputs": [
        {
          "output_type": "execute_result",
          "data": {
            "text/plain": [
              "'Dennis is 23'"
            ]
          },
          "metadata": {
            "tags": []
          },
          "execution_count": 27
        }
      ]
    },
    {
      "cell_type": "markdown",
      "metadata": {
        "id": "5pFlLAIEIbqo",
        "colab_type": "text"
      },
      "source": [
        "Now we get what we wanted! \n",
        "\n",
        "This was just a preview; we'll review *methods* in more depth later on, don't worry.  "
      ]
    },
    {
      "cell_type": "markdown",
      "metadata": {
        "id": "WsBnIKlXI-w4",
        "colab_type": "text"
      },
      "source": [
        "## Python Data Types\n",
        "\n",
        "### Strings and ints\n",
        "\n",
        "Let's discuss the different data types in Python. We've covered the first two already:  \n",
        "\n",
        "\n",
        "*   **Strings** - Strings of characters that denote text\n",
        "*   **Integers** - Positive or negative whole numbers with no decimal point\n",
        "\n",
        "\n",
        "But what if we wanted to use decimal points, like in the tax rate example above?\n"
      ]
    },
    {
      "cell_type": "code",
      "metadata": {
        "id": "_NSQOMpKIAsr",
        "colab_type": "code",
        "outputId": "a7dbca72-d0fa-4af5-b4a4-c03b13272510",
        "colab": {
          "base_uri": "https://localhost:8080/",
          "height": 35
        }
      },
      "source": [
        "# Python can handle it!\n",
        "# If you pass a variable to the built-in function type(), it will return that variable's data type\n",
        "type(tax_rate)\n",
        "\n",
        "my_float = 0.000003\n",
        "type(my_float)"
      ],
      "execution_count": 0,
      "outputs": [
        {
          "output_type": "execute_result",
          "data": {
            "text/plain": [
              "float"
            ]
          },
          "metadata": {
            "tags": []
          },
          "execution_count": 29
        }
      ]
    },
    {
      "cell_type": "markdown",
      "metadata": {
        "id": "Mji-CmWiNYUz",
        "colab_type": "text"
      },
      "source": [
        "\n",
        "\n",
        "*   **Floats** - A number that can have an integer part and a fractional part. In other words, a decimal!\n",
        "\n"
      ]
    },
    {
      "cell_type": "code",
      "metadata": {
        "id": "IoW6Cw45M-t1",
        "colab_type": "code",
        "outputId": "2dfcc352-e145-4365-8c8b-b2d249632db6",
        "colab": {
          "base_uri": "https://localhost:8080/",
          "height": 34
        }
      },
      "source": [
        "# Then there are booleans:\n",
        "\n",
        "a = True\n",
        "b = False\n",
        "\n",
        "type(a), type(b)"
      ],
      "execution_count": 0,
      "outputs": [
        {
          "output_type": "execute_result",
          "data": {
            "text/plain": [
              "(bool, bool)"
            ]
          },
          "metadata": {
            "tags": []
          },
          "execution_count": 11
        }
      ]
    },
    {
      "cell_type": "markdown",
      "metadata": {
        "id": "9y_95simNuL-",
        "colab_type": "text"
      },
      "source": [
        "\n",
        "*   **Booleans** - Simply yes or no. Booleans will be really useful later on for filtering your data and setting conditions for certain commands to execute. "
      ]
    },
    {
      "cell_type": "code",
      "metadata": {
        "id": "q_-77C8iP-tu",
        "colab_type": "code",
        "colab": {}
      },
      "source": [
        "# Finally, meet dictionaries:\n",
        "\n",
        "activities = {'rain': 'read a book',\n",
        "              'sunny': 'go for a swim',\n",
        "              'snowy': 'build a fire' \n",
        "             }\n",
        "\n",
        "# Dictionaries can be made with other data types\n",
        "\n",
        "numbers = {'one': 1,\n",
        "           'two': 2.0,\n",
        "           'three': 3\n",
        "          }"
      ],
      "execution_count": 0,
      "outputs": []
    },
    {
      "cell_type": "code",
      "metadata": {
        "id": "s5BUXOOh7qBK",
        "colab_type": "code",
        "outputId": "e8de6334-829d-44e2-e599-9f30624a77f3",
        "colab": {
          "base_uri": "https://localhost:8080/",
          "height": 35
        }
      },
      "source": [
        "numbers['three']"
      ],
      "execution_count": 0,
      "outputs": [
        {
          "output_type": "execute_result",
          "data": {
            "text/plain": [
              "3"
            ]
          },
          "metadata": {
            "tags": []
          },
          "execution_count": 35
        }
      ]
    },
    {
      "cell_type": "code",
      "metadata": {
        "id": "t_wNaTyN72ys",
        "colab_type": "code",
        "outputId": "549065c2-0fdb-4486-8f73-3e38421e6477",
        "colab": {
          "base_uri": "https://localhost:8080/",
          "height": 35
        }
      },
      "source": [
        "activities['sunny']"
      ],
      "execution_count": 0,
      "outputs": [
        {
          "output_type": "execute_result",
          "data": {
            "text/plain": [
              "'go for a swim'"
            ]
          },
          "metadata": {
            "tags": []
          },
          "execution_count": 36
        }
      ]
    },
    {
      "cell_type": "code",
      "metadata": {
        "id": "T_Hxh6Qn79ZC",
        "colab_type": "code",
        "outputId": "bdecbf5c-fc70-489a-cffe-dc4fcc55c18b",
        "colab": {
          "base_uri": "https://localhost:8080/",
          "height": 35
        }
      },
      "source": [
        "type(numbers)"
      ],
      "execution_count": 0,
      "outputs": [
        {
          "output_type": "execute_result",
          "data": {
            "text/plain": [
              "dict"
            ]
          },
          "metadata": {
            "tags": []
          },
          "execution_count": 37
        }
      ]
    },
    {
      "cell_type": "markdown",
      "metadata": {
        "id": "jelh0tKwQENH",
        "colab_type": "text"
      },
      "source": [
        "\n",
        "*   **Dictionaries** - Associating this with that. Dictionaries are made up of paired keys and values (you can see our defined pairs in the example above). They will be a powerful tool to help you organize your data later on."
      ]
    },
    {
      "cell_type": "markdown",
      "metadata": {
        "id": "NUm1ps44OizZ",
        "colab_type": "text"
      },
      "source": [
        "### Remember: *Different* data types have *different* behavior:"
      ]
    },
    {
      "cell_type": "code",
      "metadata": {
        "id": "ZGF9pJsGNq9d",
        "colab_type": "code",
        "outputId": "9523f2bd-fe1c-4086-b2f4-f3acf5f324f4",
        "colab": {
          "base_uri": "https://localhost:8080/",
          "height": 35
        }
      },
      "source": [
        "# Integers & floats can be added together arithmetically\n",
        "23 + 17"
      ],
      "execution_count": 0,
      "outputs": [
        {
          "output_type": "execute_result",
          "data": {
            "text/plain": [
              "40"
            ]
          },
          "metadata": {
            "tags": []
          },
          "execution_count": 38
        }
      ]
    },
    {
      "cell_type": "code",
      "metadata": {
        "id": "3JOVNLFsOpnt",
        "colab_type": "code",
        "outputId": "65fd15c4-b223-4cdc-b210-a780805262b7",
        "colab": {
          "base_uri": "https://localhost:8080/",
          "height": 35
        }
      },
      "source": [
        "# Strings are concatenated (bunched) together\n",
        "'ac' + 'dc'"
      ],
      "execution_count": 0,
      "outputs": [
        {
          "output_type": "execute_result",
          "data": {
            "text/plain": [
              "'acdc'"
            ]
          },
          "metadata": {
            "tags": []
          },
          "execution_count": 39
        }
      ]
    },
    {
      "cell_type": "code",
      "metadata": {
        "id": "aLwslQHrO9fF",
        "colab_type": "code",
        "outputId": "c9c7ae16-284f-48f0-dbbf-9a858d6def2b",
        "colab": {
          "base_uri": "https://localhost:8080/",
          "height": 35
        }
      },
      "source": [
        "# You can also think of true or false as 1 or 0 (binary)\n",
        "True + False"
      ],
      "execution_count": 0,
      "outputs": [
        {
          "output_type": "execute_result",
          "data": {
            "text/plain": [
              "1"
            ]
          },
          "metadata": {
            "tags": []
          },
          "execution_count": 40
        }
      ]
    },
    {
      "cell_type": "markdown",
      "metadata": {
        "id": "Wv0Q_IF0PhK2",
        "colab_type": "text"
      },
      "source": [
        "### *Weird, right?* Don't worry! As you practice with Python, you'll develop an intuitive grasp of each data type's behavior. On that note, time for your first assignment!"
      ]
    }
  ]
}